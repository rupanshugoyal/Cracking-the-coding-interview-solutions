{
 "cells": [
  {
   "cell_type": "code",
   "execution_count": 21,
   "metadata": {},
   "outputs": [
    {
     "name": "stdout",
     "output_type": "stream",
     "text": [
      "a3f1v4e5a1d1f3w1\n",
      "abc\n",
      "\n",
      "a4\n"
     ]
    }
   ],
   "source": [
    "#String compression\n",
    "\n",
    "String1 = \"aaafvvvveeeeeadfffw\"\n",
    "String2 = \"abc\"\n",
    "String3 = \"\"\n",
    "String4 = \"aaaa\"\n",
    "\n",
    "def compressString(word):\n",
    "    orglength = len(word)\n",
    "    stringterminator = \"/\"\n",
    "    S1 = list(word + stringterminator)\n",
    "    charindex = 0\n",
    "    index = count = 1\n",
    "    \n",
    "    while(S1[charindex] != stringterminator):\n",
    "        \n",
    "        if(S1[index] == S1[charindex]):\n",
    "            del S1[index]\n",
    "            count += 1\n",
    "            \n",
    "        else:\n",
    "            S1[charindex] += str(count)\n",
    "            count = 1\n",
    "            charindex = index    \n",
    "            index += 1\n",
    "    \n",
    "    answer = \"\".join(S1)[:-1]\n",
    "    if(len(word) < len(answer)):\n",
    "        return word\n",
    "    return answer\n",
    "\n",
    "\n",
    "print(compressString(String1))\n",
    "print(compressString(String2))\n",
    "print(compressString(String3))\n",
    "print(compressString(String4))"
   ]
  },
  {
   "cell_type": "code",
   "execution_count": null,
   "metadata": {},
   "outputs": [],
   "source": []
  }
 ],
 "metadata": {
  "kernelspec": {
   "display_name": "Python 3",
   "language": "python",
   "name": "python3"
  },
  "language_info": {
   "codemirror_mode": {
    "name": "ipython",
    "version": 3
   },
   "file_extension": ".py",
   "mimetype": "text/x-python",
   "name": "python",
   "nbconvert_exporter": "python",
   "pygments_lexer": "ipython3",
   "version": "3.7.3"
  }
 },
 "nbformat": 4,
 "nbformat_minor": 2
}
