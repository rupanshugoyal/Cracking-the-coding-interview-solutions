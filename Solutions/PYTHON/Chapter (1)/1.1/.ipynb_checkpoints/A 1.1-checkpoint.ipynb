{
 "cells": [
  {
   "cell_type": "code",
   "execution_count": 5,
   "metadata": {},
   "outputs": [
    {
     "name": "stdout",
     "output_type": "stream",
     "text": [
      "UNIQUE\n",
      "NOT UNIQUE\n"
     ]
    }
   ],
   "source": [
    "# Python builtins\n",
    "\n",
    "# if difference between list and set of a string is more than zero then the list has duplicates\n",
    "\n",
    "def ifUnique(test):\n",
    "    if(len(list(test)) == len(set(test))):\n",
    "        return \"UNIQUE\"\n",
    "    else:\n",
    "        return \"NOT UNIQUE\"\n",
    "        \n",
    "teststr = [\"sdvfpnjhmgb\", \"gthtghh\"]\n",
    "\n",
    "for test in teststr:\n",
    "    print(ifUnique(test))\n",
    "\n"
   ]
  },
  {
   "cell_type": "code",
   "execution_count": 9,
   "metadata": {},
   "outputs": [
    {
     "name": "stdout",
     "output_type": "stream",
     "text": [
      "UNIQUE\n",
      "NOT UNIQUE\n"
     ]
    }
   ],
   "source": [
    "# hash table approach\n",
    "\n",
    "# python dictionaries are similar to hash tables\n",
    "\n",
    "def ifUnique(test):\n",
    "    strdict = {}\n",
    "    test = list(test)\n",
    "    for char in test:\n",
    "        if( char in strdict ):\n",
    "            return \"NOT UNIQUE\"\n",
    "        strdict[char] = 1\n",
    "    return \"UNIQUE\"\n",
    "\n",
    "teststr = [\"sdvfpnjhmgb\", \"gthtghh\"]\n",
    "\n",
    "for test in teststr:\n",
    "    print(ifUnique(test))\n",
    "        "
   ]
  },
  {
   "cell_type": "code",
   "execution_count": 11,
   "metadata": {},
   "outputs": [
    {
     "name": "stdout",
     "output_type": "stream",
     "text": [
      "UNIQUE\n",
      "NOT UNIQUE\n"
     ]
    }
   ],
   "source": [
    "# without additional data structure\n",
    "\n",
    "def ifUnique(test):\n",
    "    for i in range(len(test)):\n",
    "        if(test[i] in test[i+1:]):\n",
    "            return \"NOT UNIQUE\"\n",
    "    return \"UNIQUE\"\n",
    "\n",
    "teststr = [\"sdvfpnjhmgb\", \"gthtghh\"]\n",
    "\n",
    "for test in teststr:\n",
    "    print(ifUnique(test))"
   ]
  },
  {
   "cell_type": "code",
   "execution_count": 14,
   "metadata": {},
   "outputs": [
    {
     "name": "stdout",
     "output_type": "stream",
     "text": [
      "UNIQUE\n",
      "NOT UNIQUE\n"
     ]
    }
   ],
   "source": [
    "# bit vector(array) aproach\n",
    "\n",
    "def ifUnique(test):\n",
    "    bitarray = [0]*128\n",
    "    for char in test:\n",
    "        if bitarray[ord(char)] == 1:\n",
    "            return \"NOT UNIQUE\"\n",
    "        bitarray[ord(char)] = 1\n",
    "    return \"UNIQUE\"\n",
    "\n",
    "teststr = [\"sdvfpnjhmgb\", \"gthtghh\"]\n",
    "\n",
    "for test in teststr:\n",
    "    print(ifUnique(test))"
   ]
  }
 ],
 "metadata": {
  "kernelspec": {
   "display_name": "Python 3",
   "language": "python",
   "name": "python3"
  },
  "language_info": {
   "codemirror_mode": {
    "name": "ipython",
    "version": 3
   },
   "file_extension": ".py",
   "mimetype": "text/x-python",
   "name": "python",
   "nbconvert_exporter": "python",
   "pygments_lexer": "ipython3",
   "version": "3.7.3"
  }
 },
 "nbformat": 4,
 "nbformat_minor": 2
}
