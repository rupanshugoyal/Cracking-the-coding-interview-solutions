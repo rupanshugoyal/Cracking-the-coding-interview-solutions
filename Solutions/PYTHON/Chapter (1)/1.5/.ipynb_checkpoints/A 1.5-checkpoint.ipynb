{
 "cells": [
  {
   "cell_type": "code",
   "execution_count": 12,
   "metadata": {},
   "outputs": [
    {
     "name": "stdout",
     "output_type": "stream",
     "text": [
      "False\n"
     ]
    }
   ],
   "source": [
    "# one edit distance calculation\n",
    "\n",
    "# operations: insert, delete, replace\n",
    "\n",
    "String1 = \"Pale\"\n",
    "String2 = \"bake\"\n",
    "\n",
    "def isOneEdit(String1 , String2):\n",
    "    if(abs(len(String1) - len(String2)) > 1):\n",
    "        return False\n",
    "    \n",
    "    if(len(String1) < len(String2)): #String1 is larger\n",
    "        temp = String1\n",
    "        String1 = String2\n",
    "        String2 = temp\n",
    "        \n",
    "    if(len(String1) - len(String2) == 1):\n",
    "        # insert into string2 required\n",
    "        # or delete from string1, equivalently\n",
    "        # converting String1 to String2 (Deletion operation)\n",
    "        \n",
    "        deletedone = False\n",
    "        for i in range(len(String2)):\n",
    "            if(String1[i] != String2[i]):\n",
    "                if(not deletedone):\n",
    "                    deletedone = True\n",
    "                    String1 = String1[:i] + String1[i+1:]\n",
    "                else:\n",
    "                    return False\n",
    "        return True\n",
    "    else:\n",
    "        if(String1 == String2):\n",
    "            return True\n",
    "        replaceone = False\n",
    "        for i in range(len(String1)):\n",
    "            if(String1[i] != String2[i]):\n",
    "                if(not replaceone):\n",
    "                    replaceone = True\n",
    "                else:\n",
    "                    return False\n",
    "        return True\n",
    "    \n",
    "print(isOneEdit(String1, String2))"
   ]
  }
 ],
 "metadata": {
  "kernelspec": {
   "display_name": "Python 3",
   "language": "python",
   "name": "python3"
  },
  "language_info": {
   "codemirror_mode": {
    "name": "ipython",
    "version": 3
   },
   "file_extension": ".py",
   "mimetype": "text/x-python",
   "name": "python",
   "nbconvert_exporter": "python",
   "pygments_lexer": "ipython3",
   "version": "3.7.3"
  }
 },
 "nbformat": 4,
 "nbformat_minor": 2
}
