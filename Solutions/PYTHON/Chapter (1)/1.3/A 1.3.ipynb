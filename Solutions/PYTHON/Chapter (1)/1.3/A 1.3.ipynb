{
 "cells": [
  {
   "cell_type": "code",
   "execution_count": 22,
   "metadata": {},
   "outputs": [
    {
     "name": "stdout",
     "output_type": "stream",
     "text": [
      "qwe%20rty%20rtyu%20yui7yui\n",
      "efsgvrtb%20dvevdv%20c%20fvdvdcvedbgbc\n"
     ]
    }
   ],
   "source": [
    "# iterating in the reverse order.\n",
    "# we can also use the rfind method till it gives -1.\n",
    "# but it is a single iteration of the string.\n",
    "# multiple spaces not allowed. if a space is encountered that has a space before it then the encountered one is simply removed\n",
    "\n",
    "String1 = \"qwe rty rtyu  yui7yui   \"\n",
    "String2 = \"    efsgvrtb  dvevdv c fvdvdcvedbgbc   \"\n",
    "\n",
    "\n",
    "def URLify(S1):\n",
    "    S1 = S1.rstrip()\n",
    "    S1 = S1.lstrip()\n",
    "\n",
    "    for i in range(len(S1)-1 , -1 , -1):\n",
    "        if(S1[i] == \" \"):\n",
    "            if(i != 0 and S1[i-1] == \" \"):\n",
    "                S1 = S1[:i] + S1[i+1:]\n",
    "            else:\n",
    "                S1 = S1[:i] + \"%20\" + S1[i+1:]\n",
    "    return S1\n",
    "\n",
    "print(URLify(String1))\n",
    "print(URLify(String2))\n"
   ]
  }
 ],
 "metadata": {
  "kernelspec": {
   "display_name": "Python 3",
   "language": "python",
   "name": "python3"
  },
  "language_info": {
   "codemirror_mode": {
    "name": "ipython",
    "version": 3
   },
   "file_extension": ".py",
   "mimetype": "text/x-python",
   "name": "python",
   "nbconvert_exporter": "python",
   "pygments_lexer": "ipython3",
   "version": "3.7.3"
  }
 },
 "nbformat": 4,
 "nbformat_minor": 2
}
