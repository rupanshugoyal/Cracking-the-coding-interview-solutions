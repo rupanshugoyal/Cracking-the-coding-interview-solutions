{
 "cells": [
  {
   "cell_type": "code",
   "execution_count": 5,
   "metadata": {},
   "outputs": [
    {
     "name": "stdout",
     "output_type": "stream",
     "text": [
      "True\n",
      "True\n"
     ]
    }
   ],
   "source": [
    "# palindrome permutation\n",
    "# if a string has odd length then only one character is allowed to occur odd times rest all characters muist occur even times.\n",
    "# if the string is even then all the characters must occur even tiime to permute it to a palindrome.\n",
    "\n",
    "\n",
    "String1 = \"asdfgfdsa\"\n",
    "String2 = \"rtrtrtrtrtrtrtr\"\n",
    "\n",
    "def isPermutationPalindrome(S):\n",
    "    Sdict = dict()\n",
    "    \n",
    "    for char in S:\n",
    "        if(char in Sdict):\n",
    "            Sdict[char] = Sdict[char] + 1\n",
    "        else:\n",
    "            Sdict[char] = 1\n",
    "    \n",
    "    if(len(S)%2 == 0):\n",
    "        for char in Sdict.keys():\n",
    "            if(Sdict[char] % 2 != 0 ):\n",
    "                return False\n",
    "        return True\n",
    "    else:\n",
    "        oddchar = False\n",
    "        for char in Sdict.keys():\n",
    "            if(Sdict[char] % 2 != 0):\n",
    "                if(not oddchar):\n",
    "                    oddchar = True\n",
    "                else:\n",
    "                    return False\n",
    "        return True\n",
    "    \n",
    "print(isPermutationPalindrome(String1))\n",
    "print(isPermutationPalindrome(String2))\n",
    "\n"
   ]
  }
 ],
 "metadata": {
  "kernelspec": {
   "display_name": "Python 3",
   "language": "python",
   "name": "python3"
  },
  "language_info": {
   "codemirror_mode": {
    "name": "ipython",
    "version": 3
   },
   "file_extension": ".py",
   "mimetype": "text/x-python",
   "name": "python",
   "nbconvert_exporter": "python",
   "pygments_lexer": "ipython3",
   "version": "3.7.3"
  }
 },
 "nbformat": 4,
 "nbformat_minor": 2
}
