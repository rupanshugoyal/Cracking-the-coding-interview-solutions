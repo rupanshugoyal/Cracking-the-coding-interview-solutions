{
 "cells": [
  {
   "cell_type": "code",
   "execution_count": 13,
   "metadata": {},
   "outputs": [
    {
     "name": "stdout",
     "output_type": "stream",
     "text": [
      "True\n",
      "False\n"
     ]
    }
   ],
   "source": [
    "# permuted strings have same characters just reaaranged.\n",
    "# O(NlogN) approach\n",
    "\n",
    "String1 = \"asdfasdfasdf\"\n",
    "String2 = \"fdsafdsafdsa\"\n",
    "String3 = \"ssddfffsaasd\"\n",
    "\n",
    "def comparepermutation(S1 , S2):\n",
    "    #length must be similar\n",
    "    if(len(S1) != len(S2)):\n",
    "        return False\n",
    "    S1 = sorted(list(S1))\n",
    "    S2 = sorted(list(S2))\n",
    "\n",
    "    if(S1 == S2):    \n",
    "        return True\n",
    "    else:\n",
    "        return False\n",
    "    \n",
    "print(comparepermutation(String1 , String2))\n",
    "print(comparepermutation(String1 , String3))"
   ]
  },
  {
   "cell_type": "code",
   "execution_count": 19,
   "metadata": {},
   "outputs": [
    {
     "name": "stdout",
     "output_type": "stream",
     "text": [
      "True\n",
      "False\n"
     ]
    }
   ],
   "source": [
    "# counting the words in a hash map is similar but takes O(N) time.\n",
    "\n",
    "String1 = \"asdfasdfasdf\"\n",
    "String2 = \"fdsafdsafdsa\"\n",
    "String3 = \"ssddfffsaasd\"\n",
    "\n",
    "def comparepermutationwithdict(S1 , S2):\n",
    "    #length must be similar\n",
    "    if(len(S1) != len(S2)):\n",
    "        return False\n",
    "    \n",
    "    S1 = list(S1)\n",
    "    S2 = list(S2)\n",
    "    \n",
    "    S1dict = dict()\n",
    "    S2dict = dict()\n",
    "    \n",
    "    for char in S1:\n",
    "        if(char in S1dict):\n",
    "            S1dict[char] = S1dict[char] + 1\n",
    "        else:\n",
    "            S1dict[char] = 1\n",
    "            \n",
    "    for char in S2:\n",
    "        if(char in S2dict):\n",
    "            S2dict[char] = S2dict[char] + 1\n",
    "        else:\n",
    "            S2dict[char] = 1\n",
    "            \n",
    "    for char in S1dict.keys():\n",
    "        if(S1dict[char] != S2dict[char]):\n",
    "            return False\n",
    "    return True\n",
    "\n",
    "\n",
    "print(comparepermutationwithdict(String1 , String2))\n",
    "print(comparepermutationwithdict(String1 , String3))\n"
   ]
  },
  {
   "cell_type": "code",
   "execution_count": 25,
   "metadata": {},
   "outputs": [
    {
     "name": "stdout",
     "output_type": "stream",
     "text": [
      "['a', 's', 'd', 'f', 'a', 's', 'd', 'f', 'a', 's', 'd', 'f']\n",
      "['a', 's', 'd', 'f', 'a', 's', 'd', 'f', 'a', 's', 'd', 'f']\n",
      "True\n",
      "['a', 's', 'd', 'f', 'a', 's', 'd', 'f', 'a', 's', 'd', 'f']\n",
      "['a', 's', 'd', 'f', 'a', 's', 'd', 'f', 's', 'f', 's', 'd']\n",
      "False\n"
     ]
    }
   ],
   "source": [
    "#orders can also be made similar if the permutation is not very different\n",
    "# we can de this by insertion sort\n",
    "# this may take O(N^2) approach\n",
    "\n",
    "String1 = \"asdfasdfasdf\"\n",
    "String2 = \"fdsafdsafdsa\"\n",
    "String3 = \"ssddfffsaasd\"\n",
    "\n",
    "def comparepermutationwithorder(S1 , S2):\n",
    "    #length must be similar\n",
    "    if(len(S1) != len(S2)):\n",
    "        return False\n",
    "    \n",
    "    S1 = list(S1)\n",
    "    S2 = list(S2)\n",
    "    \n",
    "    for i in range(len(S1)):\n",
    "        if(S1[i] == S2[i]):\n",
    "            continue\n",
    "        else:\n",
    "            #find S1[i] further in the list S2\n",
    "            index = -1\n",
    "            for j in range(i , len(S2)):\n",
    "                if(S2[j] == S1[i]):\n",
    "                    index = j\n",
    "                    break\n",
    "                    \n",
    "            if(index == -1):\n",
    "                #char not found\n",
    "                return False\n",
    "            else:\n",
    "                temp = S2[index]\n",
    "                S2[index] = S2[i]\n",
    "                S2[i] = temp\n",
    "    return True\n",
    "\n",
    "\n",
    "print(comparepermutationwithorder(String1 , String2))\n",
    "print(comparepermutationwithorder(String1 , String3))"
   ]
  }
 ],
 "metadata": {
  "kernelspec": {
   "display_name": "Python 3",
   "language": "python",
   "name": "python3"
  },
  "language_info": {
   "codemirror_mode": {
    "name": "ipython",
    "version": 3
   },
   "file_extension": ".py",
   "mimetype": "text/x-python",
   "name": "python",
   "nbconvert_exporter": "python",
   "pygments_lexer": "ipython3",
   "version": "3.7.3"
  }
 },
 "nbformat": 4,
 "nbformat_minor": 2
}
